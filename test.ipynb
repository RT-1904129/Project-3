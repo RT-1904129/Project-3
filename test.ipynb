{
 "cells": [
  {
   "cell_type": "code",
   "execution_count": 1,
   "metadata": {},
   "outputs": [],
   "source": [
    "import pandas as pd\n",
    "df=pd.read_csv(\"house_perchase.csv\")\n",
    "df.drop([\"Alley\",\"PoolQC\",\"MiscFeature\",\"Fence\",\"FireplaceQu\"],axis=1,inplace=True)\n",
    "df=df.loc[:,[\"MSSubClass\",\"MSZoning\",'LotFrontage','LotArea','Street',\"LandContour\",'Utilities','LotConfig',\n",
    "            'Neighborhood', 'Condition1', 'Condition2','BldgType','HouseStyle','OverallQual', 'OverallCond',\n",
    "            'RoofStyle','YearBuilt', 'YearRemodAdd','RoofMatl','Exterior1st', 'Exterior2nd','MasVnrType', 'MasVnrArea',\n",
    "            'ExterQual', 'ExterCond', 'Foundation', 'BsmtQual', 'BsmtCond', 'BsmtExposure','TotalBsmtSF',\n",
    "            'Heating', 'HeatingQC','Electrical', '1stFlrSF', '2ndFlrSF', 'LowQualFinSF','GrLivArea', 'BsmtFullBath', \n",
    "             'BsmtHalfBath', 'FullBath', 'HalfBath','BedroomAbvGr', 'KitchenAbvGr', 'KitchenQual','TotRmsAbvGrd',\n",
    "       'Functional', 'Fireplaces', 'GarageType', 'GarageYrBlt','GarageFinish', 'GarageCars', 'GarageArea', \n",
    "             'GarageQual', 'GarageCond','WoodDeckSF', 'OpenPorchSF', 'EnclosedPorch', '3SsnPorch','ScreenPorch', 'PoolArea', \n",
    "            'MiscVal', 'MoSold', 'YrSold','SaleCondition', 'SalePrice']]\n",
    "import numpy as np\n",
    "all_mode=df.mode(numeric_only=False)\n",
    "all_mode # all mode values are given\n",
    "df[\"MasVnrType\"].fillna(value=all_mode[\"MasVnrType\"].values[0],inplace=True)\n",
    "df[\"BsmtQual\"].fillna(value=all_mode[\"BsmtQual\"].values[0],inplace=True)\n",
    "df[\"BsmtCond\"].fillna(value=all_mode[\"BsmtCond\"].values[0],inplace=True)\n",
    "df[\"Electrical\"].fillna(value=all_mode[\"Electrical\"].values[0],inplace=True)\n",
    "df[\"GarageType\"].fillna(value=all_mode[\"GarageType\"].values[0],inplace=True)\n",
    "df[\"GarageFinish\"].fillna(value=all_mode[\"GarageFinish\"].values[0],inplace=True)\n",
    "df[\"GarageQual\"].fillna(value=all_mode[\"GarageQual\"].values[0],inplace=True)\n",
    "df[\"GarageCond\"].fillna(value=all_mode[\"GarageCond\"].values[0],inplace=True)\n",
    "df[\"BsmtExposure\"].fillna(value=all_mode[\"BsmtExposure\"].values[0],inplace=True)\n",
    "df[\"LotFrontage\"].fillna(value=df[\"LotFrontage\"].median(),inplace=True)\n",
    "df[\"MasVnrArea\"].fillna(value=df[\"MasVnrArea\"].median(),inplace=True)\n",
    "df[\"GarageYrBlt\"].fillna(value=df[\"GarageYrBlt\"].mean(),inplace=True)# as we know that in year formation there will no outlair because it outter limit is 2020.\n",
    "df=df[(df.LotArea<50000)&(df.LotFrontage<150)&(df.SalePrice<455000)]\n",
    "from sklearn.preprocessing import LabelEncoder\n",
    "lb=LabelEncoder()\n",
    "df[\"MSZoning_E\"]=lb.fit_transform(df[\"MSZoning\"])\n",
    "df[\"Street_E\"]=lb.fit_transform(df[\"Street\"])\n",
    "df[\"LandContour_E\"]=lb.fit_transform(df[\"LandContour\"])\n",
    "df[\"Utilities_E\"]=lb.fit_transform(df[\"Utilities\"])\n",
    "df[\"LotConfig_E\"]=lb.fit_transform(df[\"LotConfig\"])\n",
    "df[\"Neighborhood_E\"]=lb.fit_transform(df[\"Neighborhood\"])\n",
    "df[\"Condition1_E\"]=lb.fit_transform(df[\"Condition1\"])\n",
    "df[\"Condition2_E\"]=lb.fit_transform(df[\"Condition2\"])\n",
    "df[\"BldgType_E\"]=lb.fit_transform(df[\"BldgType\"])\n",
    "df[\"HouseStyle_E\"]=lb.fit_transform(df[\"HouseStyle\"])\n",
    "df[\"RoofStyle_E\"]=lb.fit_transform(df[\"RoofStyle\"])\n",
    "df[\"RoofMatl_E\"]=lb.fit_transform(df[\"RoofMatl\"])\n",
    "df[\"Exterior1st_E\"]=lb.fit_transform(df[\"Exterior1st\"])\n",
    "df[\"Exterior2nd_E\"]=lb.fit_transform(df[\"Exterior2nd\"])\n",
    "df[\"MasVnrType_E\"]=lb.fit_transform(df[\"MasVnrType\"])\n",
    "df[\"ExterQual_E\"]=lb.fit_transform(df[\"ExterQual\"])\n",
    "df[\"ExterCond_E\"]=lb.fit_transform(df[\"ExterCond\"])\n",
    "df[\"Foundation_E\"]=lb.fit_transform(df[\"Foundation\"])\n",
    "df[\"BsmtQual_E\"]=lb.fit_transform(df[\"BsmtQual\"])\n",
    "df[\"BsmtCond_E\"]=lb.fit_transform(df[\"BsmtCond\"])\n",
    "df[\"BsmtExposure_E\"]=lb.fit_transform(df[\"BsmtExposure\"])\n",
    "df[\"Heating_E\"]=lb.fit_transform(df[\"Heating\"])\n",
    "df[\"HeatingQC_E\"]=lb.fit_transform(df[\"HeatingQC\"])\n",
    "df[\"Electrical_E\"]=lb.fit_transform(df[\"Electrical\"])\n",
    "df[\"KitchenQual_E\"]=lb.fit_transform(df[\"KitchenQual\"])\n",
    "df[\"Functional_E\"]=lb.fit_transform(df[\"Functional\"])\n",
    "df[\"GarageType_E\"]=lb.fit_transform(df[\"GarageType\"])\n",
    "df[\"Functional_E\"]=lb.fit_transform(df[\"Functional\"])\n",
    "df[\"GarageFinish_E\"]=lb.fit_transform(df[\"GarageFinish\"])\n",
    "df[\"GarageQual_E\"]=lb.fit_transform(df[\"GarageQual\"])\n",
    "df[\"GarageCond_E\"]=lb.fit_transform(df[\"GarageCond\"])\n",
    "df[\"SaleCondition_E\"]=lb.fit_transform(df[\"SaleCondition\"])\n"
   ]
  },
  {
   "cell_type": "code",
   "execution_count": 7,
   "metadata": {},
   "outputs": [
    {
     "name": "stderr",
     "output_type": "stream",
     "text": [
      "C:\\Users\\Asus\\anaconda3\\lib\\site-packages\\sklearn\\linear_model\\_ridge.py:148: LinAlgWarning: Ill-conditioned matrix (rcond=2.37292e-18): result may not be accurate.\n",
      "  overwrite_a=True).T\n",
      "C:\\Users\\Asus\\anaconda3\\lib\\site-packages\\sklearn\\linear_model\\_ridge.py:148: LinAlgWarning: Ill-conditioned matrix (rcond=1.48308e-18): result may not be accurate.\n",
      "  overwrite_a=True).T\n",
      "C:\\Users\\Asus\\anaconda3\\lib\\site-packages\\sklearn\\linear_model\\_ridge.py:148: LinAlgWarning: Ill-conditioned matrix (rcond=2.96615e-18): result may not be accurate.\n",
      "  overwrite_a=True).T\n",
      "C:\\Users\\Asus\\anaconda3\\lib\\site-packages\\sklearn\\linear_model\\_ridge.py:148: LinAlgWarning: Ill-conditioned matrix (rcond=2.37292e-18): result may not be accurate.\n",
      "  overwrite_a=True).T\n",
      "C:\\Users\\Asus\\anaconda3\\lib\\site-packages\\sklearn\\linear_model\\_ridge.py:148: LinAlgWarning: Ill-conditioned matrix (rcond=1.48308e-18): result may not be accurate.\n",
      "  overwrite_a=True).T\n",
      "C:\\Users\\Asus\\anaconda3\\lib\\site-packages\\sklearn\\linear_model\\_ridge.py:148: LinAlgWarning: Ill-conditioned matrix (rcond=2.96615e-18): result may not be accurate.\n",
      "  overwrite_a=True).T\n"
     ]
    },
    {
     "name": "stdout",
     "output_type": "stream",
     "text": [
      "\n",
      " output------\n",
      "{'alpha': 50}\n",
      "\n",
      " output------\n",
      "{'alpha': 40}\n"
     ]
    }
   ],
   "source": [
    "X=df[['MSZoning_E', 'Street_E', 'LandContour_E','Utilities_E', 'LotConfig_E', 'Neighborhood_E', 'Condition1_E',\n",
    "       'Condition2_E', 'BldgType_E', 'HouseStyle_E', 'RoofStyle_E','RoofMatl_E', 'Exterior1st_E', 'Exterior2nd_E', 'MasVnrType_E',\n",
    "       'ExterQual_E', 'ExterCond_E', 'Foundation_E', 'BsmtQual_E','BsmtCond_E', 'BsmtExposure_E', 'Heating_E', 'HeatingQC_E',\n",
    "       'Electrical_E', 'KitchenQual_E', 'Functional_E', 'GarageType_E','GarageFinish_E', 'GarageQual_E', 'GarageCond_E',\n",
    "      'SaleCondition_E','MSSubClass','LotFrontage', 'LotArea','OverallQual', 'OverallCond','YearBuilt', 'YearRemodAdd',\n",
    "     'MasVnrArea',\"TotalBsmtSF\",'2ndFlrSF', 'LowQualFinSF','GrLivArea', 'BsmtFullBath', 'BsmtHalfBath', 'FullBath',\n",
    "      'HalfBath','BedroomAbvGr', 'KitchenAbvGr','1stFlrSF',\"TotRmsAbvGrd\",\"Fireplaces\",\"GarageYrBlt\",'GarageCars', 'GarageArea',\n",
    "     'WoodDeckSF', 'OpenPorchSF', 'EnclosedPorch', '3SsnPorch','ScreenPorch', 'PoolArea', 'MiscVal', 'MoSold', 'YrSold']].values\n",
    "Y=df[['SalePrice']].values\n",
    "from sklearn.model_selection import GridSearchCV\n",
    "from sklearn.linear_model import Ridge\n",
    "alpha_values={'alpha':[2e-15,2e-10,2e-8,2e-4,2e-3,2e-2,2,10,20,40,100]}\n",
    "ridg=Ridge()\n",
    "ridge=GridSearchCV(ridg,alpha_values,scoring='neg_mean_squared_error',cv=5)\n",
    "ridge.fit(X,Y)\n",
    "print(\"\\n output------\")\n",
    "print(ridge.best_params_)\n",
    "from sklearn.linear_model import Lasso\n",
    "alpha_values={'alpha':[2e-15,2e-10,2e-8,2e-4,2e-3,2e-2,2,10,20,40,100]}\n",
    "lass=Lasso()\n",
    "lass=GridSearchCV(ridg,alpha_values,scoring='neg_mean_squared_error',cv=5)\n",
    "lass.fit(X,Y)\n",
    "print(\"\\n output------\")\n",
    "print(lass.best_params_)"
   ]
  },
  {
   "cell_type": "code",
   "execution_count": 14,
   "metadata": {},
   "outputs": [],
   "source": [
    "from sklearn.model_selection import train_test_split\n",
    "X_train,X_test,Y_train,Y_test=train_test_split(X,Y,train_size=0.8)\n",
    "lass=Lasso(alpha=40)\n",
    "lass.fit(X_train,Y_train)\n",
    "Y_predicted=lass.predict(X_test)"
   ]
  },
  {
   "cell_type": "code",
   "execution_count": 27,
   "metadata": {},
   "outputs": [
    {
     "data": {
      "text/html": [
       "<div>\n",
       "<style scoped>\n",
       "    .dataframe tbody tr th:only-of-type {\n",
       "        vertical-align: middle;\n",
       "    }\n",
       "\n",
       "    .dataframe tbody tr th {\n",
       "        vertical-align: top;\n",
       "    }\n",
       "\n",
       "    .dataframe thead th {\n",
       "        text-align: right;\n",
       "    }\n",
       "</style>\n",
       "<table border=\"1\" class=\"dataframe\">\n",
       "  <thead>\n",
       "    <tr style=\"text-align: right;\">\n",
       "      <th></th>\n",
       "      <th>MSZoning_E</th>\n",
       "      <th>Street_E</th>\n",
       "      <th>LandContour_E</th>\n",
       "      <th>Utilities_E</th>\n",
       "      <th>LotConfig_E</th>\n",
       "      <th>Neighborhood_E</th>\n",
       "      <th>Condition1_E</th>\n",
       "      <th>Condition2_E</th>\n",
       "      <th>BldgType_E</th>\n",
       "      <th>HouseStyle_E</th>\n",
       "      <th>...</th>\n",
       "      <th>GarageArea</th>\n",
       "      <th>WoodDeckSF</th>\n",
       "      <th>OpenPorchSF</th>\n",
       "      <th>EnclosedPorch</th>\n",
       "      <th>3SsnPorch</th>\n",
       "      <th>ScreenPorch</th>\n",
       "      <th>PoolArea</th>\n",
       "      <th>MiscVal</th>\n",
       "      <th>MoSold</th>\n",
       "      <th>YrSold</th>\n",
       "    </tr>\n",
       "  </thead>\n",
       "  <tbody>\n",
       "    <tr>\n",
       "      <th>1</th>\n",
       "      <td>-2148.73</td>\n",
       "      <td>0</td>\n",
       "      <td>298.54</td>\n",
       "      <td>-0</td>\n",
       "      <td>-459.472</td>\n",
       "      <td>239.254</td>\n",
       "      <td>-646.659</td>\n",
       "      <td>-8569.03</td>\n",
       "      <td>-2591.57</td>\n",
       "      <td>-1197.78</td>\n",
       "      <td>...</td>\n",
       "      <td>21.545</td>\n",
       "      <td>24.1364</td>\n",
       "      <td>-12.5207</td>\n",
       "      <td>14.3934</td>\n",
       "      <td>44.8677</td>\n",
       "      <td>33.3739</td>\n",
       "      <td>20.5234</td>\n",
       "      <td>0.26796</td>\n",
       "      <td>141.868</td>\n",
       "      <td>-843.533</td>\n",
       "    </tr>\n",
       "  </tbody>\n",
       "</table>\n",
       "<p>1 rows × 64 columns</p>\n",
       "</div>"
      ],
      "text/plain": [
       "  MSZoning_E Street_E LandContour_E Utilities_E LotConfig_E Neighborhood_E  \\\n",
       "1   -2148.73        0        298.54          -0    -459.472        239.254   \n",
       "\n",
       "  Condition1_E Condition2_E BldgType_E HouseStyle_E  ... GarageArea  \\\n",
       "1     -646.659     -8569.03   -2591.57     -1197.78  ...     21.545   \n",
       "\n",
       "  WoodDeckSF OpenPorchSF EnclosedPorch 3SsnPorch ScreenPorch PoolArea  \\\n",
       "1    24.1364    -12.5207       14.3934   44.8677     33.3739  20.5234   \n",
       "\n",
       "   MiscVal   MoSold   YrSold  \n",
       "1  0.26796  141.868 -843.533  \n",
       "\n",
       "[1 rows x 64 columns]"
      ]
     },
     "execution_count": 27,
     "metadata": {},
     "output_type": "execute_result"
    }
   ],
   "source": [
    "a=pd.DataFrame(columns=['MSZoning_E', 'Street_E', 'LandContour_E','Utilities_E', 'LotConfig_E', 'Neighborhood_E', 'Condition1_E',\n",
    "       'Condition2_E', 'BldgType_E', 'HouseStyle_E', 'RoofStyle_E','RoofMatl_E', 'Exterior1st_E', 'Exterior2nd_E', 'MasVnrType_E',\n",
    "       'ExterQual_E', 'ExterCond_E', 'Foundation_E', 'BsmtQual_E','BsmtCond_E', 'BsmtExposure_E', 'Heating_E', 'HeatingQC_E',\n",
    "       'Electrical_E', 'KitchenQual_E', 'Functional_E', 'GarageType_E','GarageFinish_E', 'GarageQual_E', 'GarageCond_E',\n",
    "      'SaleCondition_E','MSSubClass','LotFrontage', 'LotArea','OverallQual', 'OverallCond','YearBuilt', 'YearRemodAdd',\n",
    "     'MasVnrArea',\"TotalBsmtSF\",'2ndFlrSF', 'LowQualFinSF','GrLivArea', 'BsmtFullBath', 'BsmtHalfBath', 'FullBath',\n",
    "      'HalfBath','BedroomAbvGr', 'KitchenAbvGr','1stFlrSF',\"TotRmsAbvGrd\",\"Fireplaces\",\"GarageYrBlt\",'GarageCars', 'GarageArea',\n",
    "     'WoodDeckSF', 'OpenPorchSF', 'EnclosedPorch', '3SsnPorch','ScreenPorch', 'PoolArea', 'MiscVal', 'MoSold', 'YrSold'])\n",
    "a.loc[1,:]=lass.coef_\n",
    "a\n"
   ]
  },
  {
   "cell_type": "code",
   "execution_count": 31,
   "metadata": {},
   "outputs": [
    {
     "data": {
      "text/plain": [
       "Index(['MSZoning_E', 'LandContour_E', 'LotConfig_E', 'Neighborhood_E',\n",
       "       'Condition1_E', 'Condition2_E', 'BldgType_E', 'HouseStyle_E',\n",
       "       'RoofStyle_E', 'RoofMatl_E', 'Exterior1st_E', 'Exterior2nd_E',\n",
       "       'MasVnrType_E', 'ExterQual_E', 'ExterCond_E', 'Foundation_E',\n",
       "       'BsmtQual_E', 'BsmtCond_E', 'BsmtExposure_E', 'HeatingQC_E',\n",
       "       'Electrical_E', 'KitchenQual_E', 'Functional_E', 'GarageType_E',\n",
       "       'GarageFinish_E', 'GarageQual_E', 'GarageCond_E', 'SaleCondition_E',\n",
       "       'MSSubClass', 'LotFrontage', 'LotArea', 'OverallQual', 'OverallCond',\n",
       "       'YearBuilt', 'YearRemodAdd', 'MasVnrArea', 'TotalBsmtSF', '2ndFlrSF',\n",
       "       'LowQualFinSF', 'GrLivArea', 'BsmtFullBath', 'BsmtHalfBath', 'FullBath',\n",
       "       'HalfBath', 'BedroomAbvGr', 'KitchenAbvGr', '1stFlrSF', 'TotRmsAbvGrd',\n",
       "       'Fireplaces', 'GarageYrBlt', 'GarageCars', 'GarageArea', 'WoodDeckSF',\n",
       "       'OpenPorchSF', 'EnclosedPorch', '3SsnPorch', 'ScreenPorch', 'PoolArea',\n",
       "       'MiscVal', 'MoSold', 'YrSold'],\n",
       "      dtype='object')"
      ]
     },
     "execution_count": 31,
     "metadata": {},
     "output_type": "execute_result"
    }
   ],
   "source": [
    "a=a[a!=0]\n",
    "a.dropna(how='any',axis=1,inplace=True)\n",
    "a.columns"
   ]
  },
  {
   "cell_type": "code",
   "execution_count": null,
   "metadata": {},
   "outputs": [],
   "source": []
  },
  {
   "cell_type": "code",
   "execution_count": null,
   "metadata": {},
   "outputs": [],
   "source": []
  },
  {
   "cell_type": "code",
   "execution_count": null,
   "metadata": {},
   "outputs": [],
   "source": []
  },
  {
   "cell_type": "code",
   "execution_count": null,
   "metadata": {},
   "outputs": [],
   "source": []
  },
  {
   "cell_type": "code",
   "execution_count": null,
   "metadata": {},
   "outputs": [],
   "source": []
  }
 ],
 "metadata": {
  "kernelspec": {
   "display_name": "Python 3",
   "language": "python",
   "name": "python3"
  },
  "language_info": {
   "codemirror_mode": {
    "name": "ipython",
    "version": 3
   },
   "file_extension": ".py",
   "mimetype": "text/x-python",
   "name": "python",
   "nbconvert_exporter": "python",
   "pygments_lexer": "ipython3",
   "version": "3.7.6"
  }
 },
 "nbformat": 4,
 "nbformat_minor": 4
}
